{
 "cells": [
  {
   "cell_type": "code",
   "execution_count": 56,
   "metadata": {},
   "outputs": [],
   "source": [
    "# Set spark environments\n",
    "import os\n",
    "os.environ[\"SPARK_HOME\"] = '/home/ypang6/anaconda3/lib/python3.7/site-packages/pyspark'\n",
    "os.environ[\"PYTHONPATH\"] = '/home/ypang6/anaconda3/bin/python3.7'\n",
    "os.environ['PYSPARK_PYTHON'] = '/home/ypang6/anaconda3/bin/python3.7'\n",
    "os.environ['PYSPARK_DRIVER_PYTHON'] = '/home/ypang6/anaconda3/bin/python3.7'"
   ]
  },
  {
   "cell_type": "code",
   "execution_count": 57,
   "metadata": {},
   "outputs": [],
   "source": [
    "from pyspark.sql import SparkSession\n",
    "from pyspark.sql.types import *"
   ]
  },
  {
   "cell_type": "code",
   "execution_count": 58,
   "metadata": {},
   "outputs": [],
   "source": [
    "spark = SparkSession \\\n",
    "        .builder \\\n",
    "        .appName(\"Terminal_Area_Flight_Data_Query\") \\\n",
    "        .config(\"spark.some.config.option\", \"some-value\") \\\n",
    "        .getOrCreate()"
   ]
  },
  {
   "cell_type": "markdown",
   "metadata": {},
   "source": [
    "## Custom schema of the data\n",
    "### References to IFF_2.15_Specs_Sherlock.doc"
   ]
  },
  {
   "cell_type": "code",
   "execution_count": 72,
   "metadata": {},
   "outputs": [],
   "source": [
    "myschema = StructType([\n",
    "    StructField(\"recType\", ShortType(), True),  #1  //track point record type number\n",
    "    StructField(\"recTime\", StringType(), True),  #2  //seconds since midnigght 1/1/70 UTC\n",
    "    StructField(\"fltKey\", LongType(), True),  #3  //flight key\n",
    "    StructField(\"bcnCode\", IntegerType(), True),  #4  //digit range from 0 to 7\n",
    "    StructField(\"cid\", IntegerType(), True),  #5  //computer flight id\n",
    "    StructField(\"Source\", StringType(), True),  #6  //source of the record \n",
    "    StructField(\"msgType\", StringType(), True),  #7\n",
    "    StructField(\"acId\", StringType(), True),  #8  //call sign\n",
    "    StructField(\"recTypeCat\", StringType(), True),  #9\n",
    "    StructField(\"lat\", DoubleType(), True),  #10\n",
    "    StructField(\"lon\", DoubleType(), True),  #11 \n",
    "    StructField(\"alt\", DoubleType(), True),  #12  //in 100s of feet\n",
    "    StructField(\"significance\", ShortType(), True),  #13 //digit range from 1 to 10\n",
    "    StructField(\"latAcc\", DoubleType(), True),  #14\n",
    "    StructField(\"lonAcc\", DoubleType(), True),  #15\n",
    "    StructField(\"altAcc\", DoubleType(), True),  #16\n",
    "    StructField(\"groundSpeed\", IntegerType(), True),  #17 //in knots\n",
    "    StructField(\"course\", DoubleType(), True),  #18  //in degrees from true north\n",
    "    StructField(\"rateOfClimb\", DoubleType(), True),  #19  //in feet per minute\n",
    "    StructField(\"altQualifier\", StringType(), True),  #20  //Altitude qualifier (the “B4 character”)\n",
    "    StructField(\"altIndicator\", StringType(), True),  #21  //Altitude indicator (the “C4 character”)\n",
    "    StructField(\"trackPtStatus\", StringType(), True),  #22  //Track point status (e.g., ‘C’ for coast)\n",
    "    StructField(\"leaderDir\", IntegerType(), True),  #23  //int 0-8 representing the direction of the leader line\n",
    "    StructField(\"scratchPad\", StringType(), True),  #24\n",
    "    StructField(\"msawInhibitInd\", ShortType(), True),  #25 // MSAW Inhibit Indicator (0=not inhibited, 1=inhibited)\n",
    "    StructField(\"assignedAltString\", StringType(), True),  #26 \n",
    "    StructField(\"controllingFac\", StringType(), True),  #27\n",
    "    StructField(\"controllingSec\", StringType(), True),  #28\n",
    "    StructField(\"receivingFac\", StringType(), True),  #29\n",
    "    StructField(\"receivingSec\", StringType(), True),  #30\n",
    "    StructField(\"activeContr\", IntegerType(), True),  #31  // the active control number\n",
    "    StructField(\"primaryContr\", IntegerType(), True),  #32  //The primary(previous, controlling, or possible next)controller number\n",
    "    StructField(\"kybrdSubset\", StringType(), True),  #33  //identifies a subset of controller keyboards\n",
    "    StructField(\"kybrdSymbol\", StringType(), True),  #34  //identifies a keyboard within the keyboard subsets\n",
    "    StructField(\"adsCode\", IntegerType(), True),  #35  //arrival departure status code\n",
    "    StructField(\"opsType\", StringType(), True),  #36  //Operations type (O/E/A/D/I/U)from ARTS and ARTS 3A data\n",
    "    StructField(\"airportCode\", StringType(), True),  #37 \n",
    "    StructField(\"trackNumber\", IntegerType(), True),  #38\n",
    "    StructField(\"tptReturnType\", StringType(), True),  #39\n",
    "    StructField(\"modeSCode\", StringType(), True),  #40\n",
    "    StructField(\"sensorTrackNumberList\", StringType(), True), #41 //a list of sensor/track number combinations\n",
    "    StructField(\"spi\", StringType(), True),  #42 // representing the Ident feature\n",
    "    StructField(\"dvs\", StringType(), True), #43 // indicate the aircraft is within a suppresion volumn area\n",
    "    StructField(\"dupM3a\", StringType(), True),  #44 // indicate 2 aircraft have the same mode 3a code\n",
    "    StructField(\"tid\", StringType(), True),  #45 //Aircraft Ident entered by pilot\n",
    "\n",
    "])"
   ]
  },
  {
   "cell_type": "code",
   "execution_count": 73,
   "metadata": {},
   "outputs": [],
   "source": [
    "date = 20190801"
   ]
  },
  {
   "cell_type": "code",
   "execution_count": 74,
   "metadata": {},
   "outputs": [],
   "source": [
    "import glob\n",
    "file_path = glob.glob(\"/media/ypang6/paralab/Research/data/ZTL/IFF_ZTL_{}*.csv\".format(date))[0]"
   ]
  },
  {
   "cell_type": "code",
   "execution_count": 75,
   "metadata": {},
   "outputs": [],
   "source": [
    "df = spark.read.csv(file_path, header=False, sep=\",\", schema=myschema)"
   ]
  },
  {
   "cell_type": "code",
   "execution_count": 76,
   "metadata": {},
   "outputs": [
    {
     "name": "stdout",
     "output_type": "stream",
     "text": [
      "root\n",
      " |-- recType: short (nullable = true)\n",
      " |-- recTime: string (nullable = true)\n",
      " |-- fltKey: long (nullable = true)\n",
      " |-- bcnCode: integer (nullable = true)\n",
      " |-- cid: integer (nullable = true)\n",
      " |-- Source: string (nullable = true)\n",
      " |-- msgType: string (nullable = true)\n",
      " |-- acId: string (nullable = true)\n",
      " |-- recTypeCat: string (nullable = true)\n",
      " |-- lat: double (nullable = true)\n",
      " |-- lon: double (nullable = true)\n",
      " |-- alt: double (nullable = true)\n",
      " |-- significance: short (nullable = true)\n",
      " |-- latAcc: double (nullable = true)\n",
      " |-- lonAcc: double (nullable = true)\n",
      " |-- altAcc: double (nullable = true)\n",
      " |-- groundSpeed: integer (nullable = true)\n",
      " |-- course: double (nullable = true)\n",
      " |-- rateOfClimb: double (nullable = true)\n",
      " |-- altQualifier: string (nullable = true)\n",
      " |-- altIndicator: string (nullable = true)\n",
      " |-- trackPtStatus: string (nullable = true)\n",
      " |-- leaderDir: integer (nullable = true)\n",
      " |-- scratchPad: string (nullable = true)\n",
      " |-- msawInhibitInd: short (nullable = true)\n",
      " |-- assignedAltString: string (nullable = true)\n",
      " |-- controllingFac: string (nullable = true)\n",
      " |-- controllingSec: string (nullable = true)\n",
      " |-- receivingFac: string (nullable = true)\n",
      " |-- receivingSec: string (nullable = true)\n",
      " |-- activeContr: integer (nullable = true)\n",
      " |-- primaryContr: integer (nullable = true)\n",
      " |-- kybrdSubset: string (nullable = true)\n",
      " |-- kybrdSymbol: string (nullable = true)\n",
      " |-- adsCode: integer (nullable = true)\n",
      " |-- opsType: string (nullable = true)\n",
      " |-- airportCode: string (nullable = true)\n",
      " |-- trackNumber: integer (nullable = true)\n",
      " |-- tptReturnType: string (nullable = true)\n",
      " |-- modeSCode: string (nullable = true)\n",
      " |-- sensorTrackNumberList: string (nullable = true)\n",
      " |-- spi: string (nullable = true)\n",
      " |-- dvs: string (nullable = true)\n",
      " |-- dupM3a: string (nullable = true)\n",
      " |-- tid: string (nullable = true)\n",
      "\n"
     ]
    }
   ],
   "source": [
    "df.printSchema()"
   ]
  },
  {
   "cell_type": "markdown",
   "metadata": {},
   "source": [
    "### Select Columns"
   ]
  },
  {
   "cell_type": "code",
   "execution_count": 77,
   "metadata": {},
   "outputs": [],
   "source": [
    "cols = ['recType', 'recTime', 'acId', 'lat', 'lon', 'alt']\n",
    "df_rec3 = df.select(*cols).filter(df['recType']==3).withColumn(\"recTime\", df['recTime'].cast(IntegerType()))"
   ]
  },
  {
   "cell_type": "code",
   "execution_count": 78,
   "metadata": {},
   "outputs": [
    {
     "name": "stdout",
     "output_type": "stream",
     "text": [
      "+-------+----------+-----+--------+---------+----+\n",
      "|recType|   recTime| acId|     lat|      lon| alt|\n",
      "+-------+----------+-----+--------+---------+----+\n",
      "|      3|1564634988|SKQ74|36.10444|-79.43917|23.0|\n",
      "|      3|1564634999|SKQ74|36.11417|-79.43611|26.0|\n",
      "|      3|1564635012|SKQ74|36.12389| -79.4325|29.0|\n",
      "|      3|1564635024|SKQ74|36.13333|-79.42889|32.0|\n",
      "|      3|1564635036|SKQ74|36.14278|-79.42583|37.0|\n",
      "|      3|1564635048|SKQ74| 36.1525|-79.42278|40.0|\n",
      "|      3|1564635059|SKQ74|36.16083|   -79.42|43.0|\n",
      "|      3|1564635072|SKQ74|36.17139|-79.41667|46.0|\n",
      "|      3|1564635084|SKQ74|36.18056|-79.41389|48.0|\n",
      "|      3|1564635096|SKQ74|36.19028|-79.41056|51.0|\n",
      "|      3|1564635108|SKQ74|    36.2|-79.40722|54.0|\n",
      "|      3|1564635120|SKQ74|   36.21|-79.40389|58.0|\n",
      "|      3|1564635132|SKQ74|36.21944|-79.40056|60.0|\n",
      "|      3|1564635143|SKQ74|36.22833|-79.39778|63.0|\n",
      "|      3|1564635155|SKQ74|36.23833|-79.39444|66.0|\n",
      "|      3|1564635167|SKQ74|36.24806|-79.39083|69.0|\n",
      "|      3|1564635180|SKQ74|36.25806|-79.38778|72.0|\n",
      "|      3|1564635191|SKQ74|36.26778|-79.38444|75.0|\n",
      "|      3|1564635204|SKQ74| 36.2775|-79.38111|77.0|\n",
      "|      3|1564635216|SKQ74| 36.2875| -79.3775|80.0|\n",
      "+-------+----------+-----+--------+---------+----+\n",
      "only showing top 20 rows\n",
      "\n"
     ]
    }
   ],
   "source": [
    "df_rec3.show()"
   ]
  },
  {
   "cell_type": "code",
   "execution_count": 79,
   "metadata": {},
   "outputs": [
    {
     "name": "stdout",
     "output_type": "stream",
     "text": [
      "+-------+--------------+------+-------+---+------+-------+-------+----------+----+----+----+------------+------+------+------+-----------+------+-----------+------------+------------+-------------+---------+----------+--------------+-----------------+--------------+--------------+------------+------------+-----------+------------+-----------+-----------+-------+-------+-----------+-----------+-------------+---------+---------------------+----+----+------+----+\n",
      "|recType|       recTime|fltKey|bcnCode|cid|Source|msgType|   acId|recTypeCat| lat| lon| alt|significance|latAcc|lonAcc|altAcc|groundSpeed|course|rateOfClimb|altQualifier|altIndicator|trackPtStatus|leaderDir|scratchPad|msawInhibitInd|assignedAltString|controllingFac|controllingSec|receivingFac|receivingSec|activeContr|primaryContr|kybrdSubset|kybrdSymbol|adsCode|opsType|airportCode|trackNumber|tptReturnType|modeSCode|sensorTrackNumberList| spi| dvs|dupM3a| tid|\n",
      "+-------+--------------+------+-------+---+------+-------+-------+----------+----+----+----+------------+------+------+------+-----------+------+-----------+------------+------------+-------------+---------+----------+--------------+-----------------+--------------+--------------+------------+------------+-----------+------------+-----------+-----------+-------+-------+-----------+-----------+-------------+---------+---------------------+----+----+------+----+\n",
      "|      2|1564634988.000|187079|   2510|728| 0/ZTL|   null|  SKQ74|         1|null|null|null|        null|  null|  null|  null|       null|  null|       null|        null|        null|         null|     null|      null|          null|             null|          null|          null|        null|        null|       null|        null|       null|       null|   null|   null|       null|       null|         null|     null|                 null|null|null|  null|null|\n",
      "|      2|1564632543.000|187080|   7134|885| 0/ZTL|   null|DAL2681|         1|null|null|null|        null|  null|  null|  null|       null|  null|       null|        null|        null|         null|     null|      null|          null|             null|          null|          null|        null|        null|       null|        null|       null|       null|   null|   null|       null|       null|         null|     null|                 null|null|null|  null|null|\n",
      "|      2|1564632158.000|187081|   7457|928| 0/ZTL|   null|LN441PC|         1|null|null|null|        null|  null|  null|  null|       null|  null|       null|        null|        null|         null|     null|      null|          null|             null|          null|          null|        null|        null|       null|        null|       null|       null|   null|   null|       null|       null|         null|     null|                 null|null|null|  null|null|\n",
      "|      2|1564632019.000|187082|   2627|537| 0/ZTL|   null|DAL2690|         1|null|null|null|        null|  null|  null|  null|       null|  null|       null|        null|        null|         null|     null|      null|          null|             null|          null|          null|        null|        null|       null|        null|       null|       null|   null|   null|       null|       null|         null|     null|                 null|null|null|  null|null|\n",
      "|      2|1564632386.000|187083|   7471|423| 0/ZTL|   null|UPS9603|         1|null|null|null|        null|  null|  null|  null|       null|  null|       null|        null|        null|         null|     null|      null|          null|             null|          null|          null|        null|        null|       null|        null|       null|       null|   null|   null|       null|       null|         null|     null|                 null|null|null|  null|null|\n",
      "|      2|1564632818.000|187084|   3644| 31| 0/ZTL|   null|AAL2290|         1|null|null|null|        null|  null|  null|  null|       null|  null|       null|        null|        null|         null|     null|      null|          null|             null|          null|          null|        null|        null|       null|        null|       null|       null|   null|   null|       null|       null|         null|     null|                 null|null|null|  null|null|\n",
      "|      2|1564632968.000|187085|   3373|987| 0/ZTL|   null| JBU225|         1|null|null|null|        null|  null|  null|  null|       null|  null|       null|        null|        null|         null|     null|      null|          null|             null|          null|          null|        null|        null|       null|        null|       null|       null|   null|   null|       null|       null|         null|     null|                 null|null|null|  null|null|\n",
      "|      2|1564633424.000|187086|   1766|285| 0/ZTL|   null|AAL1793|         1|null|null|null|        null|  null|  null|  null|       null|  null|       null|        null|        null|         null|     null|      null|          null|             null|          null|          null|        null|        null|       null|        null|       null|       null|   null|   null|       null|       null|         null|     null|                 null|null|null|  null|null|\n",
      "|      2|1564633617.000|187087|   2365| 70| 0/ZTL|   null|ASH5891|         1|null|null|null|        null|  null|  null|  null|       null|  null|       null|        null|        null|         null|     null|      null|          null|             null|          null|          null|        null|        null|       null|        null|       null|       null|   null|   null|       null|       null|         null|     null|                 null|null|null|  null|null|\n",
      "|      2|1564633688.000|187088|   3352|457| 0/ZTL|   null| LAN531|         1|null|null|null|        null|  null|  null|  null|       null|  null|       null|        null|        null|         null|     null|      null|          null|             null|          null|          null|        null|        null|       null|        null|       null|       null|   null|   null|       null|       null|         null|     null|                 null|null|null|  null|null|\n",
      "|      2|1564633090.000|187091|   7150|238| 0/ZTL|   null| FTD506|         1|null|null|null|        null|  null|  null|  null|       null|  null|       null|        null|        null|         null|     null|      null|          null|             null|          null|          null|        null|        null|       null|        null|       null|       null|   null|   null|       null|       null|         null|     null|                 null|null|null|  null|null|\n",
      "|      2|1564632175.000|187092|   1106|453| 0/ZTL|   null|DAL2769|         1|null|null|null|        null|  null|  null|  null|       null|  null|       null|        null|        null|         null|     null|      null|          null|             null|          null|          null|        null|        null|       null|        null|       null|       null|   null|   null|       null|       null|         null|     null|                 null|null|null|  null|null|\n",
      "|      2|1564633936.000|187093|   5712|291| 0/ZTL|   null| ABX445|         1|null|null|null|        null|  null|  null|  null|       null|  null|       null|        null|        null|         null|     null|      null|          null|             null|          null|          null|        null|        null|       null|        null|       null|       null|   null|   null|       null|       null|         null|     null|                 null|null|null|  null|null|\n",
      "|      2|1564634062.000|187094|   1164|694| 0/ZTL|   null| LXJ457|         1|null|null|null|        null|  null|  null|  null|       null|  null|       null|        null|        null|         null|     null|      null|          null|             null|          null|          null|        null|        null|       null|        null|       null|       null|   null|   null|       null|       null|         null|     null|                 null|null|null|  null|null|\n",
      "|      2|1564635943.000|187095|   3054|160| 0/ZTL|   null| DAL896|         1|null|null|null|        null|  null|  null|  null|       null|  null|       null|        null|        null|         null|     null|      null|          null|             null|          null|          null|        null|        null|       null|        null|       null|       null|   null|   null|       null|       null|         null|     null|                 null|null|null|  null|null|\n",
      "|      2|1564634702.000|187097|   2511|500| 0/ZTL|   null| GTI110|         1|null|null|null|        null|  null|  null|  null|       null|  null|       null|        null|        null|         null|     null|      null|          null|             null|          null|          null|        null|        null|       null|        null|       null|       null|   null|   null|       null|       null|         null|     null|                 null|null|null|  null|null|\n",
      "|      2|1564633623.000|187098|   2565|130| 0/ZTL|   null|DAL2415|         1|null|null|null|        null|  null|  null|  null|       null|  null|       null|        null|        null|         null|     null|      null|          null|             null|          null|          null|        null|        null|       null|        null|       null|       null|   null|   null|       null|       null|         null|     null|                 null|null|null|  null|null|\n",
      "|      2|1564634522.000|187099|   7131|678| 0/ZTL|   null|  DAL27|         1|null|null|null|        null|  null|  null|  null|       null|  null|       null|        null|        null|         null|     null|      null|          null|             null|          null|          null|        null|        null|       null|        null|       null|       null|   null|   null|       null|       null|         null|     null|                 null|null|null|  null|null|\n",
      "|      2|1564634279.000|187100|   2563|139| 0/ZTL|   null|PDT5006|         1|null|null|null|        null|  null|  null|  null|       null|  null|       null|        null|        null|         null|     null|      null|          null|             null|          null|          null|        null|        null|       null|        null|       null|       null|   null|   null|       null|       null|         null|     null|                 null|null|null|  null|null|\n",
      "|      2|1564632471.000|187101|   6755|578| 0/ZTL|   null| N310LC|         1|null|null|null|        null|  null|  null|  null|       null|  null|       null|        null|        null|         null|     null|      null|          null|             null|          null|          null|        null|        null|       null|        null|       null|       null|   null|   null|       null|       null|         null|     null|                 null|null|null|  null|null|\n",
      "+-------+--------------+------+-------+---+------+-------+-------+----------+----+----+----+------------+------+------+------+-----------+------+-----------+------------+------------+-------------+---------+----------+--------------+-----------------+--------------+--------------+------------+------------+-----------+------------+-----------+-----------+-------+-------+-----------+-----------+-------------+---------+---------------------+----+----+------+----+\n",
      "only showing top 20 rows\n",
      "\n"
     ]
    }
   ],
   "source": [
    "df.filter(df['recType']==2).show()"
   ]
  },
  {
   "cell_type": "code",
   "execution_count": null,
   "metadata": {},
   "outputs": [],
   "source": []
  }
 ],
 "metadata": {
  "kernelspec": {
   "display_name": "Python 3",
   "language": "python",
   "name": "python3"
  },
  "language_info": {
   "codemirror_mode": {
    "name": "ipython",
    "version": 3
   },
   "file_extension": ".py",
   "mimetype": "text/x-python",
   "name": "python",
   "nbconvert_exporter": "python",
   "pygments_lexer": "ipython3",
   "version": "3.7.6"
  }
 },
 "nbformat": 4,
 "nbformat_minor": 4
}
